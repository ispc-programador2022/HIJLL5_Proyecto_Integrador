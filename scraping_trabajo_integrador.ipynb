{
  "cells": [
    {
      "cell_type": "code",
      "execution_count": 2,
      "id": "0f13c9e7",
      "metadata": {
        "colab": {
          "base_uri": "https://localhost:8080/"
        },
        "id": "0f13c9e7",
        "outputId": "ce9f7c4c-52b2-4418-851e-e94f0e138d83"
      },
      "outputs": [
        {
          "output_type": "stream",
          "name": "stdout",
          "text": [
            "Ingrese 'argentina' o 'espana' : espana\n",
            "https://datosmacro.expansion.com/otros/coronavirus/espana\n",
            "100\n"
          ]
        }
      ],
      "source": [
        "## https://www.youtube.com/watch?v=kPNHKrOqedI\n",
        "## https://www.youtube.com/watch?v=XaHC6axF5kc\n",
        "##ORDEN DE PRIORIDADES PARA BUSCAR ELEMENTOS \n",
        "##1 ID,   2 Class Name   3.Tag name, CSS Selector    4. Xpath\n",
        "import requests\n",
        "from bs4 import BeautifulSoup\n",
        "import pandas as pd\n",
        "pais = input(\"Ingrese 'argentina' o 'espana' : \")\n",
        "\n",
        "\n",
        "website = 'https://datosmacro.expansion.com/otros/coronavirus/'+pais\n",
        "print (website)\n",
        "\n",
        "\n",
        "result = requests.get(website)\n",
        "content = result.text\n",
        "soup = BeautifulSoup(content, 'lxml')\n",
        "\n",
        "box = soup.find('section', class_='col-sm-8 col-sm-8-asd')#este es el elemento raiz que contiene el elemento que nos interesa.\n",
        "#cuando usamos .find(tag, clase) se pone primero el tag luego la clase que copiamos.-\n",
        "\n",
        "titulo = box.find('div', class_='tabletit').get_text()\n",
        "#aca utilizamos .get_text() para traer el texto del titulo seleccionado. en caso de no poseer clase solo se pone el TAG.\n",
        "#tener en cuenta que el find se hizo dentro de box y no en soup.\n",
        "# probar ---> print (titulo)\n",
        "\n",
        "filas= box.find('div', class_ = 'table-responsive').find('tbody').find_all('tr')\n",
        "##BUSCA DENTRO DE div la clase table responsive, dentro de ese div busca todo los elementos de tbody, y dentro de tbody busca todos los tr.\n",
        "\n",
        "print (len(filas)) #aca imprimo la cantidad de filas que hay en la tabla\n",
        "#---> filas[0].find_all('td')[1].get_text()      #aca traigo de todas las filas la fila '0' y de la fila cero la columna '1', luego convierto el html a texto.\n",
        "\n",
        "\n",
        "dias = []\n",
        "incre_muertos = []\n",
        "muertos = []\n",
        "muertosxmill = []\n",
        "incremenConfir= []\n",
        "confir = []\n",
        "confircm14dias = []\n",
        "for fila in filas:\n",
        "    dias.append(fila.find_all('td')[0].get_text()) \n",
        "    incre_muertos.append(fila.find_all('td')[1].get_text()) \n",
        "    muertos.append(fila.find_all('td')[2].get_text()) \n",
        "    muertosxmill.append(fila.find_all('td')[3].get_text()) \n",
        "    incremenConfir.append(fila.find_all('td')[4].get_text()) \n",
        "    confir.append(fila.find_all('td')[5].get_text()) \n",
        "    confircm14dias.append(fila.find_all('td')[6].get_text()) \n",
        "\n",
        "    \n",
        "\n",
        "df = pd.DataFrame({\n",
        "    \"Fecha\":dias,\n",
        "    \"Incremento Muertos\":incre_muertos,\n",
        "    \"Muertos\":muertos,\n",
        "    \"Muertos/Millon\":muertosxmill,\n",
        "    \"Incremento Confirmados\":incremenConfir,\n",
        "    \"Confirmados\":confir,\n",
        "    \"Confirmados/100.000-14 Dias\":confircm14dias\n",
        "})\n",
        "\n",
        "#exportamos el dataframe a csv abajo\n",
        "\n",
        "df.to_csv('COVID '+pais+'.csv')"
      ]
    },
    {
      "cell_type": "code",
      "source": [],
      "metadata": {
        "id": "w1algAKr_c6j"
      },
      "id": "w1algAKr_c6j",
      "execution_count": null,
      "outputs": []
    },
    {
      "cell_type": "code",
      "source": [],
      "metadata": {
        "id": "ztvY8KNR_dJp"
      },
      "id": "ztvY8KNR_dJp",
      "execution_count": null,
      "outputs": []
    },
    {
      "cell_type": "code",
      "execution_count": null,
      "id": "a45ab5e0",
      "metadata": {
        "id": "a45ab5e0"
      },
      "outputs": [],
      "source": []
    }
  ],
  "metadata": {
    "kernelspec": {
      "display_name": "Python 3 (ipykernel)",
      "language": "python",
      "name": "python3"
    },
    "language_info": {
      "codemirror_mode": {
        "name": "ipython",
        "version": 3
      },
      "file_extension": ".py",
      "mimetype": "text/x-python",
      "name": "python",
      "nbconvert_exporter": "python",
      "pygments_lexer": "ipython3",
      "version": "3.9.7"
    },
    "colab": {
      "provenance": []
    }
  },
  "nbformat": 4,
  "nbformat_minor": 5
}